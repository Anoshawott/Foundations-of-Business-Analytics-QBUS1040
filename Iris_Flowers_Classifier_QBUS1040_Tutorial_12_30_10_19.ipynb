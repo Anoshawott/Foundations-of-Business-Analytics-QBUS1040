{
  "nbformat": 4,
  "nbformat_minor": 0,
  "metadata": {
    "kernelspec": {
      "display_name": "Python 3",
      "language": "python",
      "name": "python3"
    },
    "language_info": {
      "codemirror_mode": {
        "name": "ipython",
        "version": 3
      },
      "file_extension": ".py",
      "mimetype": "text/x-python",
      "name": "python",
      "nbconvert_exporter": "python",
      "pygments_lexer": "ipython3",
      "version": "3.7.3"
    },
    "colab": {
      "name": "Iris-Flowers-Classifier_QBUS1040 Tutorial 12 30.10.19.ipynb",
      "provenance": [],
      "collapsed_sections": [],
      "include_colab_link": true
    }
  },
  "cells": [
    {
      "cell_type": "markdown",
      "metadata": {
        "id": "view-in-github",
        "colab_type": "text"
      },
      "source": [
        "<a href=\"https://colab.research.google.com/github/Anoshawott/Foundations-of-Business-Analytics-QBUS1040/blob/master/Iris_Flowers_Classifier_QBUS1040_Tutorial_12_30_10_19.ipynb\" target=\"_parent\"><img src=\"https://colab.research.google.com/assets/colab-badge.svg\" alt=\"Open In Colab\"/></a>"
      ]
    },
    {
      "cell_type": "code",
      "metadata": {
        "id": "zF18bOHDkqhg",
        "colab_type": "code",
        "colab": {}
      },
      "source": [
        "import numpy as np\n",
        "\n",
        "def gram_schmidt(a):\n",
        "    q = []\n",
        "    for i in range(len(a)):\n",
        "        #orthogonalization\n",
        "        q_tilde = a[i]\n",
        "        for j in range(len(q)):\n",
        "            q_tilde = q_tilde - np.inner(q[j], a[i])*q[j] \n",
        "        \n",
        "        #Test for dependence\n",
        "        if np.linalg.norm(q_tilde) <= 1e-6: # 1e-6 = 0.000001 \n",
        "            print(\"Vectors are linearly dependent.\")\n",
        "            print (\"GS algorithm terminates at iteration \", i+1)\n",
        "            return q\n",
        "        \n",
        "        #Normalization\n",
        "        else:\n",
        "            qi = q_tilde/np.linalg.norm(q_tilde)\n",
        "            q.append(qi)\n",
        "    # print(\"Vector are linearly independent.\")\n",
        "    return q\n",
        "\n",
        "def qr_fac(a_matrix):\n",
        "    A = np.transpose(a_matrix) # Gram-schmidt alg. takes ROWS as vectors\n",
        "    Q = np.array(gram_schmidt(A))\n",
        "    Q = np.transpose(Q) # Output of Gram-schmidt alg. also takes ROWS as vectors\n",
        "    R = np.matmul(np.transpose(Q), a_matrix) # R = Q^T A\n",
        "    return Q, R\n",
        "\n",
        "def back_sub(upper_mat, b):\n",
        "    n = len(b)\n",
        "    x = b\n",
        "    for i in reversed(range(n)): # reversed() uses the reversed roder: n-1,...,0\n",
        "        for j in range(i+1, n):  # update x[i] using x[i+1],...x[n-1]\n",
        "            x[i] = x[i] - upper_mat[i, j]*x[j]\n",
        "        x[i] = x[i]/upper_mat[i,i]\n",
        "    return x\n",
        "\n",
        "def SLE_QR(A, b): # Solve Ax=b\n",
        "    Q, R = qr_fac(A) # 1. compute A = QR\n",
        "    b_tilde = np.matmul(Q.T, b) # 2. compute Q^T b\n",
        "    x = back_sub(R, b_tilde) # 3. solve Rx = Q^T b using back substitution\n",
        "    return x"
      ],
      "execution_count": 0,
      "outputs": []
    },
    {
      "cell_type": "markdown",
      "metadata": {
        "id": "emv2l9Fbkqhp",
        "colab_type": "text"
      },
      "source": [
        "# Iris flowers classifier"
      ]
    },
    {
      "cell_type": "code",
      "metadata": {
        "id": "-46Ld730kqhs",
        "colab_type": "code",
        "colab": {},
        "outputId": "276b7748-70e2-48f4-ef66-2d4db6d81104"
      },
      "source": [
        "import numpy as np\n",
        "from sklearn import datasets\n",
        "iris = datasets.load_iris()\n",
        "X = iris.data\n",
        "y = iris.target\n",
        "N = len(y)  # no. of observations\n",
        "A = np.concatenate((np.ones((N,1)), X), axis = 1)\n",
        "print(A[:3, :])\n",
        "print('Original observed response/outcome:')\n",
        "print(y)\n",
        "\n",
        "y_vir = -np.ones(N)\n",
        "for i in range(100, N):\n",
        "    y_vir[i] = 1\n",
        "print('Transformed observations:')\n",
        "print(y_vir)\n",
        "\n",
        "theta = SLE_QR(A, y_vir)\n",
        "print('The model parameters are:', theta)\n",
        "\n",
        "print('Predicted response')\n",
        "y_confidence = np.matmul(A, theta)\n",
        "y_prediction = np.zeros(N)\n",
        "for i in range(N):\n",
        "    if y_confidence[i] >= 0:\n",
        "        y_prediction[i] = 1 # it is Iris Virginica\n",
        "    else:\n",
        "        y_prediction[i] = -1 # it is NOT Iris Virginica\n",
        "print(y_prediction)"
      ],
      "execution_count": 0,
      "outputs": [
        {
          "output_type": "stream",
          "text": [
            "[[1.  5.1 3.5 1.4 0.2]\n",
            " [1.  4.9 3.  1.4 0.2]\n",
            " [1.  4.7 3.2 1.3 0.2]]\n",
            "Original observed response/outcome:\n",
            "[0 0 0 0 0 0 0 0 0 0 0 0 0 0 0 0 0 0 0 0 0 0 0 0 0 0 0 0 0 0 0 0 0 0 0 0 0\n",
            " 0 0 0 0 0 0 0 0 0 0 0 0 0 1 1 1 1 1 1 1 1 1 1 1 1 1 1 1 1 1 1 1 1 1 1 1 1\n",
            " 1 1 1 1 1 1 1 1 1 1 1 1 1 1 1 1 1 1 1 1 1 1 1 1 1 1 2 2 2 2 2 2 2 2 2 2 2\n",
            " 2 2 2 2 2 2 2 2 2 2 2 2 2 2 2 2 2 2 2 2 2 2 2 2 2 2 2 2 2 2 2 2 2 2 2 2 2\n",
            " 2 2]\n",
            "Transformed observations:\n",
            "[-1. -1. -1. -1. -1. -1. -1. -1. -1. -1. -1. -1. -1. -1. -1. -1. -1. -1.\n",
            " -1. -1. -1. -1. -1. -1. -1. -1. -1. -1. -1. -1. -1. -1. -1. -1. -1. -1.\n",
            " -1. -1. -1. -1. -1. -1. -1. -1. -1. -1. -1. -1. -1. -1. -1. -1. -1. -1.\n",
            " -1. -1. -1. -1. -1. -1. -1. -1. -1. -1. -1. -1. -1. -1. -1. -1. -1. -1.\n",
            " -1. -1. -1. -1. -1. -1. -1. -1. -1. -1. -1. -1. -1. -1. -1. -1. -1. -1.\n",
            " -1. -1. -1. -1. -1. -1. -1. -1. -1. -1.  1.  1.  1.  1.  1.  1.  1.  1.\n",
            "  1.  1.  1.  1.  1.  1.  1.  1.  1.  1.  1.  1.  1.  1.  1.  1.  1.  1.\n",
            "  1.  1.  1.  1.  1.  1.  1.  1.  1.  1.  1.  1.  1.  1.  1.  1.  1.  1.\n",
            "  1.  1.  1.  1.  1.  1.]\n",
            "The model parameters are: [-2.39056373 -0.09175217  0.40553677  0.00797582  1.10355865]\n",
            "Predicted response\n",
            "[-1. -1. -1. -1. -1. -1. -1. -1. -1. -1. -1. -1. -1. -1. -1. -1. -1. -1.\n",
            " -1. -1. -1. -1. -1. -1. -1. -1. -1. -1. -1. -1. -1. -1. -1. -1. -1. -1.\n",
            " -1. -1. -1. -1. -1. -1. -1. -1. -1. -1. -1. -1. -1. -1. -1.  1. -1. -1.\n",
            " -1. -1.  1. -1. -1. -1. -1. -1. -1. -1. -1. -1.  1. -1. -1. -1.  1. -1.\n",
            " -1. -1. -1. -1. -1.  1. -1. -1. -1. -1. -1. -1.  1.  1. -1. -1. -1. -1.\n",
            " -1. -1. -1. -1. -1. -1. -1. -1. -1. -1.  1.  1.  1.  1.  1.  1.  1.  1.\n",
            "  1.  1.  1.  1.  1.  1.  1.  1.  1.  1.  1. -1.  1.  1.  1.  1.  1.  1.\n",
            "  1.  1.  1. -1.  1.  1.  1. -1. -1.  1.  1.  1.  1.  1.  1.  1.  1.  1.\n",
            "  1.  1.  1.  1.  1.  1.]\n"
          ],
          "name": "stdout"
        }
      ]
    },
    {
      "cell_type": "markdown",
      "metadata": {
        "id": "uCp7IhKqkqh0",
        "colab_type": "text"
      },
      "source": [
        "# Multi-class classifier"
      ]
    },
    {
      "cell_type": "code",
      "metadata": {
        "scrolled": false,
        "id": "WpdRGQ1Qkqh1",
        "colab_type": "code",
        "colab": {},
        "outputId": "70ccfd52-f739-45d3-eb58-926931955659"
      },
      "source": [
        "print('Original observation')\n",
        "print(y)\n",
        "\n",
        "# transformed observation\n",
        "# Iris Setosa, Iris Versicolour, Iris Virginica\n",
        "\n",
        "y_true = -np.ones((N, 3))\n",
        "for i in range(N):\n",
        "    y_true[i,y[i]] = 1\n",
        "# print(y_true)    \n",
        "\n",
        "theta_Set = SLE_QR(A, y_true[:,0])\n",
        "print('The model parameters for Iris Setosa are:', theta_Set)\n",
        "\n",
        "theta_Ver = SLE_QR(A, y_true[:,1])\n",
        "print('The model parameters for Iris Versicolour are:', theta_Ver)\n",
        "\n",
        "theta_Vir = SLE_QR(A, y_true[:,2])\n",
        "print('The model parameters for Iris Virginica are:', theta_Vir)\n",
        "\n",
        "# compute the confidence\n",
        "yhat_0 = np.matmul(A, theta_Set)\n",
        "yhat_1 = np.matmul(A, theta_Ver)\n",
        "yhat_2 = np.matmul(A, theta_Vir)\n",
        "\n",
        "print('The predicted response')\n",
        "y_pre = np.zeros(N)\n",
        "for i in range(N):\n",
        "    y_pre[i] = np.argmax([yhat_0[i], yhat_1[i], yhat_2[i]])\n",
        "print(y_pre)"
      ],
      "execution_count": 0,
      "outputs": [
        {
          "output_type": "stream",
          "text": [
            "Original observation\n",
            "[0 0 0 0 0 0 0 0 0 0 0 0 0 0 0 0 0 0 0 0 0 0 0 0 0 0 0 0 0 0 0 0 0 0 0 0 0\n",
            " 0 0 0 0 0 0 0 0 0 0 0 0 0 1 1 1 1 1 1 1 1 1 1 1 1 1 1 1 1 1 1 1 1 1 1 1 1\n",
            " 1 1 1 1 1 1 1 1 1 1 1 1 1 1 1 1 1 1 1 1 1 1 1 1 1 1 2 2 2 2 2 2 2 2 2 2 2\n",
            " 2 2 2 2 2 2 2 2 2 2 2 2 2 2 2 2 2 2 2 2 2 2 2 2 2 2 2 2 2 2 2 2 2 2 2 2 2\n",
            " 2 2]\n",
            "The model parameters for Iris Setosa are: [-0.76355422  0.13205954  0.48569574 -0.44931423 -0.11494546]\n",
            "The model parameters for Iris Versicolour are: [ 2.15411795 -0.04030737 -0.89123252  0.44133841 -0.98861319]\n",
            "The model parameters for Iris Virginica are: [-2.39056373 -0.09175217  0.40553677  0.00797582  1.10355865]\n",
            "The predicted response\n",
            "[0. 0. 0. 0. 0. 0. 0. 0. 0. 0. 0. 0. 0. 0. 0. 0. 0. 0. 0. 0. 0. 0. 0. 0.\n",
            " 0. 0. 0. 0. 0. 0. 0. 0. 0. 0. 0. 0. 0. 0. 0. 0. 0. 0. 0. 0. 0. 0. 0. 0.\n",
            " 0. 0. 2. 2. 2. 1. 1. 1. 2. 1. 1. 1. 1. 2. 1. 1. 2. 2. 2. 1. 1. 1. 2. 1.\n",
            " 1. 1. 1. 2. 1. 2. 2. 1. 1. 1. 1. 1. 2. 2. 2. 1. 2. 1. 1. 1. 1. 1. 1. 1.\n",
            " 1. 1. 1. 1. 2. 2. 2. 2. 2. 2. 2. 1. 1. 2. 2. 2. 2. 2. 2. 2. 2. 2. 2. 1.\n",
            " 2. 2. 1. 2. 2. 2. 2. 2. 2. 1. 2. 2. 2. 1. 1. 2. 2. 2. 2. 2. 2. 2. 2. 2.\n",
            " 2. 2. 2. 2. 2. 2.]\n"
          ],
          "name": "stdout"
        }
      ]
    },
    {
      "cell_type": "code",
      "metadata": {
        "id": "WIsvuZaFkqh4",
        "colab_type": "code",
        "colab": {}
      },
      "source": [
        ""
      ],
      "execution_count": 0,
      "outputs": []
    },
    {
      "cell_type": "code",
      "metadata": {
        "id": "-Rs2A6m9kqh7",
        "colab_type": "code",
        "colab": {}
      },
      "source": [
        ""
      ],
      "execution_count": 0,
      "outputs": []
    }
  ]
}