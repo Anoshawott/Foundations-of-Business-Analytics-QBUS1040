{
  "nbformat": 4,
  "nbformat_minor": 0,
  "metadata": {
    "kernelspec": {
      "display_name": "Python 3",
      "language": "python",
      "name": "python3"
    },
    "language_info": {
      "codemirror_mode": {
        "name": "ipython",
        "version": 3
      },
      "file_extension": ".py",
      "mimetype": "text/x-python",
      "name": "python",
      "nbconvert_exporter": "python",
      "pygments_lexer": "ipython3",
      "version": "3.7.3"
    },
    "colab": {
      "name": "QBUS1040_datafitting.ipynb",
      "provenance": [],
      "collapsed_sections": [],
      "include_colab_link": true
    }
  },
  "cells": [
    {
      "cell_type": "markdown",
      "metadata": {
        "id": "view-in-github",
        "colab_type": "text"
      },
      "source": [
        "<a href=\"https://colab.research.google.com/github/Anoshawott/Foundations-of-Business-Analytics-QBUS1040/blob/master/QBUS1040_datafitting.ipynb\" target=\"_parent\"><img src=\"https://colab.research.google.com/assets/colab-badge.svg\" alt=\"Open In Colab\"/></a>"
      ]
    },
    {
      "cell_type": "markdown",
      "metadata": {
        "id": "LYDbQToNkDxG",
        "colab_type": "text"
      },
      "source": [
        "# Visualize the data\n",
        "\n",
        "There are 10 attributes in the data set. For simplicity and visualization purpose, we choose to investigate the relationship between average blood pressure (the fourth column in $X$) and a quantitative measure of disease progression one year after baseline ($y$). To visualize the relationship, we draw a scatter plot."
      ]
    },
    {
      "cell_type": "code",
      "metadata": {
        "id": "KlUpzCSAkDw7",
        "colab_type": "code",
        "colab": {},
        "outputId": "1315a0f3-a305-412b-a7b5-6c1e9a9cf6ce"
      },
      "source": [
        "import matplotlib.pyplot as plt\n",
        "import numpy as np\n",
        "from sklearn.datasets import load_diabetes\n",
        "diabetes = load_diabetes()\n",
        "print('# of observations (N) and # of each observation\\'s attributes (n) are',diabetes.data.shape)\n",
        "print('# of responses (N) is',diabetes.target.shape)"
      ],
      "execution_count": 0,
      "outputs": [
        {
          "output_type": "stream",
          "text": [
            "# of observations (N) and # of each observation's attributes (n) are (442, 10)\n",
            "# of responses (N) is (442,)\n"
          ],
          "name": "stdout"
        }
      ]
    },
    {
      "cell_type": "code",
      "metadata": {
        "id": "NtDwT7xjkDxJ",
        "colab_type": "code",
        "colab": {},
        "outputId": "8a4a2111-b38e-4ab3-fe4c-fcdb9edcb7d4"
      },
      "source": [
        "x = diabetes.data[:,3]\n",
        "y = diabetes.target\n",
        "# Plot the data\n",
        "plt.scatter(x,y)"
      ],
      "execution_count": 0,
      "outputs": [
        {
          "output_type": "execute_result",
          "data": {
            "text/plain": [
              "<matplotlib.collections.PathCollection at 0x1d0e8d47940>"
            ]
          },
          "metadata": {
            "tags": []
          },
          "execution_count": 2
        },
        {
          "output_type": "display_data",
          "data": {
            "image/png": "[encoded data removed]",
            "text/plain": [
              "<Figure size 432x288 with 1 Axes>"
            ]
          },
          "metadata": {
            "tags": [],
            "needs_background": "light"
          }
        }
      ]
    },
    {
      "cell_type": "markdown",
      "metadata": {
        "id": "1LjZ3SaekDxO",
        "colab_type": "text"
      },
      "source": [
        "# Define functions we need\n",
        "\n",
        "We will need some functions from previous tutorials.\n",
        "\n",
        "_To improve readability of the code, we use $\\hat{\\theta} = A^{\\dagger} y$ in the function `polyfit` instead of the usual `solve_via_backsub` function which solves the least square problem via back substitution and QR factorization._"
      ]
    },
    {
      "cell_type": "code",
      "metadata": {
        "id": "CGJJOdfFkDxP",
        "colab_type": "code",
        "colab": {}
      },
      "source": [
        "def vandermonde(t,n):\n",
        "    m=len(t)\n",
        "    V=np.zeros((m,n))\n",
        "    for i in range(m):\n",
        "        for j in range(n):\n",
        "            V[i,j]=t[i]**j\n",
        "    return V\n",
        "\n",
        "# Fits the coefficients by solving a least square problem: given A and y, returns a list of coefficients\n",
        "def polyfit(A,y):\n",
        "    return np.matmul(np.linalg.pinv(A), y)\n",
        "\n",
        "\n",
        "# Calaulate the estimated value of y, given A and theta_hat\n",
        "def polyeval(A,theta_hat):\n",
        "    return np.matmul(A,theta_hat)\n",
        "\n",
        "\n",
        "# Calaulate the RMS, given observed value y and estimated value y_hat\n",
        "def RMSE(y,y_hat):\n",
        "    return np.linalg.norm(y-y_hat)/len(y)**0.5"
      ],
      "execution_count": 0,
      "outputs": []
    },
    {
      "cell_type": "markdown",
      "metadata": {
        "id": "gY1PLwyIkDxR",
        "colab_type": "text"
      },
      "source": [
        "# Data fitting\n",
        "\n",
        "Here we are trying to fit a straight-model (degree 1 polynomial)."
      ]
    },
    {
      "cell_type": "code",
      "metadata": {
        "id": "upvP0-XikDxR",
        "colab_type": "code",
        "colab": {},
        "outputId": "52805b57-23ba-4d18-f71c-d26c7246a697"
      },
      "source": [
        "# Say we try to fit a straight-line model\n",
        "deg = 1\n",
        "p = deg+1\n",
        "# Construct the matrix A\n",
        "A = vandermonde(x,p)\n",
        "\n",
        "# Split into 13 folds, simply because 442 is exactly divisible by 13\n",
        "N = len(y)\n",
        "K = 13\n",
        "idx = np.arange(N) # idx = (0,1,2,...,441)\n",
        "splited_idx = np.split(idx,13) #splited_idx is 13 list of indices\n",
        "\n",
        "# Construct skeletons to record coefficients for each test dataset, RMS of training dataset and RMS of test dataset \n",
        "thetas = np.zeros((K,A.shape[1]))\n",
        "RMSE_train = np.zeros(K)\n",
        "RMSE_test = np.zeros(K)\n",
        "# loop on each fold as test dataset\n",
        "for k in range(K):\n",
        "    test_index = splited_idx[k]\n",
        "    train_index = np.delete(idx,splited_idx[k])\n",
        "    A_train,A_test = A[train_index],A[test_index]\n",
        "    y_train,y_test = y[train_index],y[test_index]\n",
        "    # Calculate the coefficients of this fold from the training dataset\n",
        "    thetas[k] = polyfit(A_train,y_train)\n",
        "    # Calculate and record the estimated value of training dataset and RMS\n",
        "    y_train_hat = polyeval(A_train,thetas[k])\n",
        "    RMSE_train[k] = RMSE(y_train,y_train_hat)\n",
        "    # Calculate and record the estimated value of test dataset and RMS\n",
        "    y_test_hat = polyeval(A_test,thetas[k])\n",
        "    RMSE_test[k] = RMSE(y_test,y_test_hat)\n",
        "print('RMS of training dataset for fold 1 to 13:')\n",
        "print(RMSE_train)\n",
        "print('RMS of testing dataset for fold 1 to 13:')\n",
        "print(RMSE_test)\n",
        "print('Parameter Estimates for fold 1 to 13:')\n",
        "print(thetas)"
      ],
      "execution_count": 0,
      "outputs": [
        {
          "output_type": "stream",
          "text": [
            "RMS of training dataset for fold 1 to 13:\n",
            "[69.1724907  69.56414687 68.78967867 69.27722831 68.5379831  69.4745732\n",
            " 68.92751497 68.17729238 68.73039031 69.58136715 69.05124991 68.69236012\n",
            " 70.08170144]\n",
            "RMS of testing dataset for fold 1 to 13:\n",
            "[68.1821692  63.32439848 73.26349678 67.25858436 75.57353121 64.47008088\n",
            " 71.13892204 79.34780514 73.38256123 63.08430063 69.70494388 73.79016929\n",
            " 56.09899214]\n",
            "Parameter Estimates for fold 1 to 13:\n",
            "[[152.40975558 723.92266317]\n",
            " [153.26614262 714.17439741]\n",
            " [153.50341063 761.40497728]\n",
            " [150.4647709  691.27888101]\n",
            " [151.35837638 696.60803357]\n",
            " [153.0008079  726.21171796]\n",
            " [152.58781233 729.89340838]\n",
            " [152.15232765 695.89271772]\n",
            " [151.5894025  702.77447555]\n",
            " [151.29238345 728.897221  ]\n",
            " [151.36618835 702.11596272]\n",
            " [151.5118841  717.99697175]\n",
            " [153.15906591 698.85471544]]\n"
          ],
          "name": "stdout"
        }
      ]
    }
  ]
}