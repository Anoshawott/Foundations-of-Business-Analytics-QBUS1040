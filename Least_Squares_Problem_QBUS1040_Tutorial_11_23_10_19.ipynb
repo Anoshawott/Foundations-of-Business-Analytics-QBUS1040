{
  "nbformat": 4,
  "nbformat_minor": 0,
  "metadata": {
    "kernelspec": {
      "display_name": "Python 3",
      "language": "python",
      "name": "python3"
    },
    "language_info": {
      "codemirror_mode": {
        "name": "ipython",
        "version": 3
      },
      "file_extension": ".py",
      "mimetype": "text/x-python",
      "name": "python",
      "nbconvert_exporter": "python",
      "pygments_lexer": "ipython3",
      "version": "3.8.1-final"
    },
    "colab": {
      "name": "Least-Squares-Problem_QBUS1040-Tutorial-11-23.10.19.ipynb",
      "provenance": [],
      "collapsed_sections": [],
      "include_colab_link": true
    }
  },
  "cells": [
    {
      "cell_type": "markdown",
      "metadata": {
        "id": "view-in-github",
        "colab_type": "text"
      },
      "source": [
        "<a href=\"https://colab.research.google.com/github/Anoshawott/Foundations-of-Business-Analytics-QBUS1040/blob/master/Least_Squares_Problem_QBUS1040_Tutorial_11_23_10_19.ipynb\" target=\"_parent\"><img src=\"https://colab.research.google.com/assets/colab-badge.svg\" alt=\"Open In Colab\"/></a>"
      ]
    },
    {
      "cell_type": "markdown",
      "metadata": {
        "id": "0og_u2LBjPZV",
        "colab_type": "text"
      },
      "source": [
        "# Functions for least square problems"
      ]
    },
    {
      "cell_type": "code",
      "metadata": {
        "id": "iCD7WuONjPZa",
        "colab_type": "code",
        "colab": {}
      },
      "source": [
        "import numpy as np"
      ],
      "execution_count": 0,
      "outputs": []
    },
    {
      "cell_type": "code",
      "metadata": {
        "id": "tmSB2u2pjPZi",
        "colab_type": "code",
        "colab": {}
      },
      "source": [
        "def solve_q (A,b):\n",
        "    n = A.shape[0] # The no. of rows in Matrix A\n",
        "    b = b.reshape(n,1) # To make sure b is a column vector\n",
        "    \n",
        "    coeff = np.linalg.inv(A.T@A)@A.T@b\n",
        "    return coeff\n",
        "\n",
        "# Note: Can replace this cell with own code from week 9 (QR backsubstitution)"
      ],
      "execution_count": 0,
      "outputs": []
    },
    {
      "cell_type": "code",
      "metadata": {
        "id": "70x9uQasjPZp",
        "colab_type": "code",
        "colab": {}
      },
      "source": [
        "def vandermonde (t_list, n):\n",
        "    m = len(t_list)\n",
        "    A = np.zeros((m,n))\n",
        "    for i in range(m):\n",
        "        for j in range(n):\n",
        "            A[i,j] = t_list[i]**j\n",
        "    \n",
        "    return A"
      ],
      "execution_count": 0,
      "outputs": []
    },
    {
      "cell_type": "markdown",
      "metadata": {
        "id": "L-cIfGKjjPZv",
        "colab_type": "text"
      },
      "source": [
        "# Simulate data"
      ]
    },
    {
      "cell_type": "code",
      "metadata": {
        "id": "HmDGIak4jPZx",
        "colab_type": "code",
        "colab": {}
      },
      "source": [
        "np.random.seed(0)\n",
        "N = 100\n",
        "x = np.zeros((N,1))\n",
        "y = np.zeros((N,1))\n",
        "for i in range(N):\n",
        "    xtemp = 10*np.random.rand(1)\n",
        "    error = np.random.normal(0,25)\n",
        "    ytemp = (xtemp-4)*(xtemp-8)*xtemp + error\n",
        "    x[i,0] = xtemp\n",
        "    y[i,0] = ytemp"
      ],
      "execution_count": 0,
      "outputs": []
    },
    {
      "cell_type": "code",
      "metadata": {
        "id": "NtcQdqYhjPZ4",
        "colab_type": "code",
        "colab": {},
        "outputId": "2085c41b-e3c1-49f0-b909-06b947379078"
      },
      "source": [
        "import matplotlib.pyplot as plt\n",
        "plt.subplots()\n",
        "plt.plot(x,y, 'bo')\n",
        "plt.show()"
      ],
      "execution_count": 0,
      "outputs": [
        {
          "output_type": "display_data",
          "data": {
            "image/png": "[encoded data removed]",
            "text/plain": [
              "<Figure size 432x288 with 1 Axes>"
            ]
          },
          "metadata": {
            "tags": [],
            "needs_background": "light"
          }
        }
      ]
    },
    {
      "cell_type": "markdown",
      "metadata": {
        "id": "dFiU09NDjPaA",
        "colab_type": "text"
      },
      "source": [
        "# Eg. of fitting a polynomial function"
      ]
    },
    {
      "cell_type": "code",
      "metadata": {
        "id": "aESxkYEijPaD",
        "colab_type": "code",
        "colab": {},
        "outputId": "ffac05d3-14dd-4467-fc19-340c5760a44e"
      },
      "source": [
        "# No. of coeff is 3\n",
        "p = 3\n",
        "A = vandermonde(x,p)\n",
        "theta = solve_q(A,y)\n",
        "print('Coeff vector is')\n",
        "print(theta)\n",
        "# Generate predictions?\n",
        "y_pred = A@theta\n",
        "\n",
        "# RMS?\n",
        "r = y - y_pred\n",
        "rms = np.linalg.norm(r)/(len(r)**0.5)\n",
        "print('RMS is')\n",
        "print(rms)"
      ],
      "execution_count": 0,
      "outputs": [
        {
          "output_type": "stream",
          "text": [
            "Coeff vector is\n",
            "[[ 52.88995849]\n",
            " [-30.37741567]\n",
            " [  3.29673133]]\n",
            "RMS is\n",
            "29.40479043058222\n"
          ],
          "name": "stdout"
        }
      ]
    },
    {
      "cell_type": "code",
      "metadata": {
        "id": "t9-X3u2GjPaH",
        "colab_type": "code",
        "colab": {},
        "outputId": "c18de51c-0a68-44dc-c360-4692466d3d56"
      },
      "source": [
        "plt.subplots()\n",
        "plt.plot(x,y, 'bo')\n",
        "plt.plot(x,y_pred, 'ro')\n",
        "plt.show()"
      ],
      "execution_count": 0,
      "outputs": [
        {
          "output_type": "display_data",
          "data": {
            "image/png": "[encoded data removed]",
            "text/plain": [
              "<Figure size 432x288 with 1 Axes>"
            ]
          },
          "metadata": {
            "tags": [],
            "needs_background": "light"
          }
        }
      ]
    },
    {
      "cell_type": "markdown",
      "metadata": {
        "id": "k8MTC7FGjPaJ",
        "colab_type": "text"
      },
      "source": [
        "# Example of validation"
      ]
    },
    {
      "cell_type": "code",
      "metadata": {
        "id": "XcdQObEejPaK",
        "colab_type": "code",
        "colab": {},
        "outputId": "af931af8-ddfe-4c2f-c7b5-ab7a572c9710"
      },
      "source": [
        "\n",
        "N = len(x) # No. of observations\n",
        "xsplit = np.split(x,[0,20])\n",
        "xtrain = np.concatenate([xsplit[0], xsplit[2]])\n",
        "xtest = xsplit[1]\n",
        "\n",
        "ysplit = np.split(y, [0,20])\n",
        "ytrain = np.concatenate([ysplit[0], ysplit[2]])\n",
        "ytest = ysplit[1]\n",
        "\n",
        "# Fit the polynomial function using training set\n",
        "p = 4\n",
        "Atrain = vandermonde(xtrain, p)\n",
        "theta = solve_q(Atrain, ytrain)\n",
        "\n",
        "# RMS for train set\n",
        "y_pre_train = Atrain@theta\n",
        "rms_train = np.linalg.norm(ytrain - y_pre_train)/(len(ytrain)**0.5)\n",
        "\n",
        "# RMS for test set\n",
        "Atest = vandermonde(xtest, p)\n",
        "y_pre_test = Atest@theta\n",
        "rms_test = np.linalg.norm(ytest - y_pre_test)/(len(ytest)**0.5)\n",
        "\n",
        "print('Training rms', rms_train)\n",
        "print('Test rms', rms_test)"
      ],
      "execution_count": 0,
      "outputs": [
        {
          "output_type": "stream",
          "text": [
            "Training rms 23.5955179323841\n",
            "Test rms 24.671469186557406\n"
          ],
          "name": "stdout"
        }
      ]
    },
    {
      "cell_type": "code",
      "metadata": {
        "id": "6FyetOPEjPaN",
        "colab_type": "code",
        "colab": {}
      },
      "source": [
        "# 5 folds cross validation\n",
        "# 5 polynomial functions\n",
        "train_rms = np.zeros((5,5))\n",
        "test_rms = np.zeros((5,5))\n",
        "# A vector for 5 poly functions\n",
        "num_coeff_v = [2,3,5,7,20]\n",
        "N = len(x) # No. of observations\n",
        "\n",
        "for i in range(5):\n",
        "    # For each fold (each cross validation)\n",
        "    for j in range(len(num_coeff_v)):\n",
        "        # For each poly function\n",
        "        \n",
        "        # 1. Split the data into train and test\n",
        "        xsplit = np.split(x, [i*(N//5),(i+1)*(N//5)])\n",
        "        xtrain = np.concatenate([xsplit[0], xsplit[2]])\n",
        "        xtest = xsplit[1]\n",
        "        \n",
        "        ysplit = np.split(y, [i*(N//5),(i+1)*(N//5)])\n",
        "        ytrain = np.concatenate([ysplit[0], ysplit[2]])\n",
        "        ytest = ysplit[1]\n",
        "        \n",
        "        # 2. Fit the polynomial function using the training set\n",
        "        p = num_coeff_v[j]\n",
        "        Atrain = vandermonde(xtrain, p)\n",
        "        theta = solve_q(Atrain, ytrain)\n",
        "        \n",
        "        # 3. Prediction and RMS\n",
        "        y_pre_train = Atrain@theta\n",
        "        rms_train = np.linalg.norm(ytrain - y_pre_train)/(len(ytrain)**0.5)\n",
        "        Atest = vandermonde(xtest, p)\n",
        "        y_pre_test = Atest@theta\n",
        "        rms_test = np.linalg.norm(ytest - y_pre_test)/(len(ytest)**0.5)\n",
        "        \n",
        "        # 4. Record the RMS for training and test\n",
        "        rms_test = np.linalg.norm(y_pre_test - ytest)/(len(ytest)**0.5)\n",
        "        rms_train = np.linalg.norm(y_pre_train - ytrain)/(len(ytrain)**0.5)\n",
        "        test_rms[i, j] = round(rms_test, 4)\n",
        "        train_rms[i, j] = round(rms_train, 4)"
      ],
      "execution_count": 0,
      "outputs": []
    },
    {
      "cell_type": "code",
      "metadata": {
        "id": "cr7n3VROjPaP",
        "colab_type": "code",
        "colab": {},
        "outputId": "b915c098-5e53-43a2-ef87-c363a837161c"
      },
      "source": [
        "train_rms"
      ],
      "execution_count": 0,
      "outputs": [
        {
          "output_type": "execute_result",
          "data": {
            "text/plain": [
              "array([[  34.8999,   29.0571,   23.4608,   23.3617,  581.1029],\n",
              "       [  36.5907,   29.5729,   23.8891,   23.8217,  464.2549],\n",
              "       [  38.5162,   30.6723,   24.0485,   24.0464, 1099.4003],\n",
              "       [  37.6735,   28.9392,   22.1085,   21.965 , 1097.4019],\n",
              "       [  37.4843,   27.7107,   23.0365,   22.6625, 2203.1443]])"
            ]
          },
          "metadata": {
            "tags": []
          },
          "execution_count": 14
        }
      ]
    },
    {
      "cell_type": "code",
      "metadata": {
        "id": "y7lyWRLzjPaS",
        "colab_type": "code",
        "colab": {},
        "outputId": "8a67841b-0c16-4559-8095-bb1a4a64ee50"
      },
      "source": [
        "test_rms"
      ],
      "execution_count": 0,
      "outputs": [
        {
          "output_type": "execute_result",
          "data": {
            "text/plain": [
              "array([[  46.826 ,   32.3828,   24.6051,   24.8894,  519.2588],\n",
              "       [  39.9403,   29.0568,   22.2599,   22.5491,  652.1016],\n",
              "       [  31.4439,   24.0934,   21.9275,   21.9363,  568.6641],\n",
              "       [  35.9966,   32.5259,   29.612 ,   31.2594,  767.7463],\n",
              "       [  36.2491,   36.5152,   26.4281,   28.8129, 2328.4711]])"
            ]
          },
          "metadata": {
            "tags": []
          },
          "execution_count": 15
        }
      ]
    }
  ]
}