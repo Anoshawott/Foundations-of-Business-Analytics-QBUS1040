{
  "nbformat": 4,
  "nbformat_minor": 0,
  "metadata": {
    "kernelspec": {
      "display_name": "Python 3",
      "language": "python",
      "name": "python3"
    },
    "language_info": {
      "codemirror_mode": {
        "name": "ipython",
        "version": 3
      },
      "file_extension": ".py",
      "mimetype": "text/x-python",
      "name": "python",
      "nbconvert_exporter": "python",
      "pygments_lexer": "ipython3",
      "version": "3.7.3"
    },
    "colab": {
      "name": "Problem3_Student_version_tut4part2.ipynb",
      "provenance": [],
      "include_colab_link": true
    }
  },
  "cells": [
    {
      "cell_type": "markdown",
      "metadata": {
        "id": "view-in-github",
        "colab_type": "text"
      },
      "source": [
        "<a href=\"https://colab.research.google.com/github/Anoshawott/Foundations-of-Business-Analytics-QBUS1040/blob/master/Problem3_Student_version_tut4part2.ipynb\" target=\"_parent\"><img src=\"https://colab.research.google.com/assets/colab-badge.svg\" alt=\"Open In Colab\"/></a>"
      ]
    },
    {
      "cell_type": "markdown",
      "metadata": {
        "id": "62MAUtCteBV_",
        "colab_type": "text"
      },
      "source": [
        "# Data Preparation"
      ]
    },
    {
      "cell_type": "code",
      "metadata": {
        "id": "SDlVKvR9eBWD",
        "colab_type": "code",
        "colab": {}
      },
      "source": [
        "#Import the packages numpy and csv\n",
        "import numpy as np\n",
        "import csv\n",
        "#Read the csv file called article_titles.csv\n",
        "file = open(\"article_titles.csv\", \"r\",encoding=\"utf8\")\n",
        "reader = csv.reader(file)\n",
        "article_title = []\n",
        "for row in reader:\n",
        "    article_title.append(row[0])\n",
        "file.close()\n",
        "#Read the csv file called dictionary.csv\n",
        "file2 = open(\"dictionary.csv\", \"r\",encoding=\"utf8\")\n",
        "reader = csv.reader(file2)\n",
        "dictionary = []\n",
        "for row in reader:\n",
        "    dictionary.append(row)\n",
        "file2.close()\n",
        "#Read the csv file called article_histogram.csv\n",
        "file3 = open(\"article_histograms.csv\", \"r\",encoding=\"utf8\")\n",
        "reader = csv.reader(file3)\n",
        "article_histograms = []\n",
        "for row in reader:\n",
        "    article_histograms.append(row)\n",
        "file3.close()\n",
        "#Store all three variables as numpy array or matrix    \n",
        "article_histograms = np.matrix(article_histograms)\n",
        "article_title = np.array(article_title)\n",
        "dictionary = np.array(dictionary)"
      ],
      "execution_count": 0,
      "outputs": []
    },
    {
      "cell_type": "code",
      "metadata": {
        "id": "cs0NEy55eBWM",
        "colab_type": "code",
        "colab": {},
        "outputId": "42b49373-55fe-4ebe-92d9-47153754ba39"
      },
      "source": [
        "#run k-means with k = 8 and finding the 30th articles group representative.\n",
        "from sklearn.cluster import KMeans\n",
        "import numpy as np\n",
        "kmeans = KMeans(n_clusters=8, random_state=0).fit(article_histograms)\n",
        "labels = kmeans.labels_ # group assignment\n",
        "group_representative = kmeans.cluster_centers_ # centroids\n",
        "print(labels[29]) # 30th article by using group assignment\n",
        "\n",
        "print('All articles in Group 5:', article_title[labels == 5])\n",
        "\n",
        "idx = group_representative[5].argsort()\n",
        "sorted_dictionary = dictionary[idx]\n",
        "print('The most common word in Group 5 is:', sorted_dictionary[len(sorted_dictionary) - 1])"
      ],
      "execution_count": 0,
      "outputs": [
        {
          "output_type": "stream",
          "text": [
            "6\n",
            "All articles in Group 5: ['Brock (Pokémon)' 'Bulbasaur' 'Deoxys' 'Eevee' 'Gameplay of Pokémon'\n",
            " 'Hey You, Pikachu!' 'Lapras' 'List of Pokémon characters' 'Meowth'\n",
            " 'Mew (Pokémon)' 'Mewtwo' 'Misty (Pokémon)' 'Pikachu' 'Pokémon'\n",
            " 'Pokémon (anime)' 'Pokémon Black and White' 'Pokémon Diamond and Pearl'\n",
            " 'Pokémon Emerald' 'Pokémon FireRed and LeafGreen'\n",
            " 'Pokémon Gold and Silver' 'Pokémon HeartGold and SoulSilver'\n",
            " 'Pokémon Platinum' 'Pokémon Red and Blue' 'Pokémon Ruby and Sapphire'\n",
            " 'Pokémon Trading Card Game' 'Pokémon universe' 'Pokémon Yellow'\n",
            " 'Pokémon 4Ever' 'Satoshi Tajiri' 'Team Rocket (anime)' 'Togepi' 'Zapdos']\n",
            "The most common word in Group 5 is: ['pokemon']\n"
          ],
          "name": "stdout"
        }
      ]
    },
    {
      "cell_type": "code",
      "metadata": {
        "id": "5XD3cKlIeBWX",
        "colab_type": "code",
        "colab": {}
      },
      "source": [
        ""
      ],
      "execution_count": 0,
      "outputs": []
    }
  ]
}