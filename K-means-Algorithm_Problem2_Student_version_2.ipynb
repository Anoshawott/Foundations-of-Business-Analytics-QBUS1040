{
  "nbformat": 4,
  "nbformat_minor": 0,
  "metadata": {
    "kernelspec": {
      "display_name": "Python 3",
      "language": "python",
      "name": "python3"
    },
    "language_info": {
      "codemirror_mode": {
        "name": "ipython",
        "version": 3
      },
      "file_extension": ".py",
      "mimetype": "text/x-python",
      "name": "python",
      "nbconvert_exporter": "python",
      "pygments_lexer": "ipython3",
      "version": "3.7.3"
    },
    "colab": {
      "name": "Problem2_Student_version-2.ipynb",
      "provenance": [],
      "include_colab_link": true
    }
  },
  "cells": [
    {
      "cell_type": "markdown",
      "metadata": {
        "id": "view-in-github",
        "colab_type": "text"
      },
      "source": [
        "<a href=\"https://colab.research.google.com/github/Anoshawott/Foundations-of-Business-Analytics-QBUS1040/blob/master/Problem2_Student_version_2.ipynb\" target=\"_parent\"><img src=\"https://colab.research.google.com/assets/colab-badge.svg\" alt=\"Open In Colab\"/></a>"
      ]
    },
    {
      "cell_type": "markdown",
      "metadata": {
        "id": "0YF9XBiBc0DR",
        "colab_type": "text"
      },
      "source": [
        "# K-means algorithm\n",
        "In this exercise, you are going to implement the K-means algorithm using Python. "
      ]
    },
    {
      "cell_type": "markdown",
      "metadata": {
        "id": "11JfdMNTc0DU",
        "colab_type": "text"
      },
      "source": [
        "(a) Create 10 2-vectors. Provide an initial guess of the group representatives and choose the number of groups $k$ to be 3. (You may try to change the initial guess later on and see how it affects your results. Be mindful that when you have an empty cluster, your code may not work!)"
      ]
    },
    {
      "cell_type": "code",
      "metadata": {
        "id": "saIJHJyvc0DX",
        "colab_type": "code",
        "colab": {}
      },
      "source": [
        "import numpy as np\n",
        "# Create 10 2-vectors\n",
        "x = np.array([[-5,10], [-10,5], [-2,2], [8,5], [5,2], [9,-2], [5,-4], [-2,-5], [-10,-7], [-11,-4]])\n",
        "# Initial guess of 3 centroids\n",
        "z1 = [-10, 0]\n",
        "z2 = [1, 1]\n",
        "z3 = [-10, -8]"
      ],
      "execution_count": 0,
      "outputs": []
    },
    {
      "cell_type": "markdown",
      "metadata": {
        "id": "c3qnKctKc0Df",
        "colab_type": "text"
      },
      "source": [
        "(b) Write a few lines of code that assign the vectors to different groups. (You may want to define this as a function so you can call it later on.) "
      ]
    },
    {
      "cell_type": "code",
      "metadata": {
        "id": "0MP6SXJoc0Dh",
        "colab_type": "code",
        "colab": {},
        "outputId": "538c7545-3c2b-40e4-f85c-bd801b7f4df4"
      },
      "source": [
        "# assign the i-th vector to its nearest group\n",
        "c = np.zeros(len(x))\n",
        "for i in range(len(x)):\n",
        "    dist1 = np.linalg.norm(x[i] - z1)#compute the distance\n",
        "    dist2 = np.linalg.norm(x[i] - z2)#compute the distance\n",
        "    dist3 = np.linalg.norm(x[i] - z3)#compute the distance\n",
        "    min_dist = min(dist1,dist2,dist3)\n",
        "    if min_dist == dist1:\n",
        "        c[i] = 1\n",
        "    elif min_dist == dist2:\n",
        "        c[i] = 2\n",
        "    else: # min_dist == dist3:\n",
        "        c[i] = 3\n",
        "    print(\"Vector \", i+1, \" is assigened to group \", c[i])\n",
        "print(c)"
      ],
      "execution_count": 0,
      "outputs": [
        {
          "output_type": "stream",
          "text": [
            "Vector  1  is assigened to group  2.0\n",
            "Vector  2  is assigened to group  1.0\n",
            "Vector  3  is assigened to group  2.0\n",
            "Vector  4  is assigened to group  2.0\n",
            "Vector  5  is assigened to group  2.0\n",
            "Vector  6  is assigened to group  2.0\n",
            "Vector  7  is assigened to group  2.0\n",
            "Vector  8  is assigened to group  2.0\n",
            "Vector  9  is assigened to group  3.0\n",
            "Vector  10  is assigened to group  1.0\n",
            "[2. 1. 2. 2. 2. 2. 2. 2. 3. 1.]\n"
          ],
          "name": "stdout"
        }
      ]
    },
    {
      "cell_type": "code",
      "metadata": {
        "id": "v7ccChhvc0Dp",
        "colab_type": "code",
        "colab": {},
        "outputId": "0522453d-6815-47bd-90a6-34b3a0e70da1"
      },
      "source": [
        "def nearest_group(x, z):\n",
        "    c = np.zeros(len(x))\n",
        "    for i in range (len(x)):\n",
        "        dist = np.zeros(len(z))\n",
        "        for k in range(len(z)):\n",
        "            dist[k] = np.linalg.norm(x[i] - z[k])**2\n",
        "        min_dist = min(dist)\n",
        "        for k in range(len(z)): # the 2nd inner for-loop\n",
        "            if min_dist == dist[k]:\n",
        "                c[i] = k+1 # original code, keeping it consistent to part(b)\n",
        "                ##c[i] = k\n",
        "                break # to break the 2nd inner for-loop\n",
        "    return c\n",
        "\n",
        "z1 = [-10, 0]\n",
        "z2 = [1, 1]\n",
        "z3 = [-10, -8]\n",
        "z = np.array([z1, z2, z3])\n",
        "c = nearest_group(x, z)\n",
        "print(c)"
      ],
      "execution_count": 0,
      "outputs": [
        {
          "output_type": "stream",
          "text": [
            "[2. 1. 2. 2. 2. 2. 2. 2. 3. 1.]\n"
          ],
          "name": "stdout"
        }
      ]
    },
    {
      "cell_type": "markdown",
      "metadata": {
        "id": "HynXvT58c0Dt",
        "colab_type": "text"
      },
      "source": [
        "(c) Write a few lines of code that compute the centroid. (You may want to define this as a function so you can call it later on.) "
      ]
    },
    {
      "cell_type": "code",
      "metadata": {
        "id": "T4d7E_utc0Dt",
        "colab_type": "code",
        "colab": {},
        "outputId": "27af410b-f091-4341-94ca-3dcf15b12e56"
      },
      "source": [
        "# calculate new centroids\n",
        "cent1 = np.array([0,0]);\n",
        "cent2 = np.array([0,0]);\n",
        "cent3 = np.array([0,0]);\n",
        "# initialise counters\n",
        "cnt1 = 0;cnt2 = 0;cnt3 = 0;\n",
        "\n",
        "for i in range(len(x)):\n",
        "    if c[i] == 1:\n",
        "        cent1 = cent1 + x[i]\n",
        "        cnt1 = cnt1 + 1\n",
        "    #Do the same for the other two groups\n",
        "    if c[i] == 2:\n",
        "        cent2 = cent2 + x[i]\n",
        "        cnt2 = cnt2 + 1\n",
        "    if c[i] == 3:\n",
        "        cent3 = cent3 + x[i]\n",
        "        cnt3 = cnt3 + 1\n",
        "    \n",
        "    \n",
        "z1 = cent1 / cnt1\n",
        "z2 = cent2 / cnt2\n",
        "z3 = cent3 / cnt3\n",
        "print(\"Centroid of Group 1 is z1 =\", z1)\n",
        "print(\"Centroid of Group 2 is z2 =\", z2)\n",
        "print(\"Centroid of Group 3 is z3 =\", z3)"
      ],
      "execution_count": 0,
      "outputs": [
        {
          "output_type": "stream",
          "text": [
            "Centroid of Group 1 is z1 = [-10.5   0.5]\n",
            "Centroid of Group 2 is z2 = [2.57142857 1.14285714]\n",
            "Centroid of Group 3 is z3 = [-10.  -7.]\n"
          ],
          "name": "stdout"
        }
      ]
    },
    {
      "cell_type": "code",
      "metadata": {
        "id": "Rpu5VBTNc0Dw",
        "colab_type": "code",
        "colab": {},
        "outputId": "abac695e-e74c-4927-f70f-64b507e60318"
      },
      "source": [
        "def centroid_update(x, c, z):\n",
        "    k = len(z)\n",
        "    vec_length = len(x[0])\n",
        "    cent = np.zeros((k, vec_length))\n",
        "    z = np.zeros((k, vec_length))\n",
        "    cnt = np.zeros(k)\n",
        "    for i in range(len(x)):\n",
        "        for j in range(k):\n",
        "            if c[i] == j+1:\n",
        "                cent[j] += x[i]\n",
        "                cnt[j] += 1\n",
        "                break\n",
        "    for j in range(k):\n",
        "        z[j] = cent[j] / cnt[j]\n",
        "    return z\n",
        "\n",
        "z1 = [-10, 0]\n",
        "z2 = [1, 1]\n",
        "z3 = [-10, -8]\n",
        "z = np.array([z1, z2, z3])\n",
        "print(len(z))\n",
        "z = centroid_update(x, c, z)\n",
        "print(z)"
      ],
      "execution_count": 0,
      "outputs": [
        {
          "output_type": "stream",
          "text": [
            "3\n",
            "[[-10.5          0.5       ]\n",
            " [  2.57142857   1.14285714]\n",
            " [-10.          -7.        ]]\n"
          ],
          "name": "stdout"
        }
      ]
    },
    {
      "cell_type": "markdown",
      "metadata": {
        "id": "uWk2doLKc0Dz",
        "colab_type": "text"
      },
      "source": [
        "(d) Compute the clustering objective value $J$."
      ]
    },
    {
      "cell_type": "code",
      "metadata": {
        "id": "-J1_Xw3Mc0D0",
        "colab_type": "code",
        "colab": {},
        "outputId": "23b90969-fbcf-4dbe-b488-d85b7bd268d5"
      },
      "source": [
        "# objective function after Iteration 1\n",
        "J_obj = 0\n",
        "for i in range(len(x)):\n",
        "    if c[i] == 1:\n",
        "        J_obj = J_obj + np.linalg.norm(x[i] - z1)**2 #your code here\n",
        "    elif c[i] == 2:\n",
        "        J_obj = J_obj + np.linalg.norm(x[i] - z2)**2 #your code here\n",
        "    else: #c[i] == 3:\n",
        "        J_obj = J_obj + np.linalg.norm(x[i] - z3)**2 #your code here\n",
        "J_obj = J_obj / len(x) #your code here\n",
        "print('J_obj = ',J_obj)"
      ],
      "execution_count": 0,
      "outputs": [
        {
          "output_type": "stream",
          "text": [
            "J_obj =  182.1\n"
          ],
          "name": "stdout"
        }
      ]
    },
    {
      "cell_type": "code",
      "metadata": {
        "id": "qFgVV71sc0D2",
        "colab_type": "code",
        "colab": {},
        "outputId": "9cf9829d-b860-43f2-8da9-9c4f4f338e4d"
      },
      "source": [
        "def obj_val(x, c, z):\n",
        "    J_obj = 0\n",
        "    for i in range(len(x)):\n",
        "        for j in range(len(z)):\n",
        "            if c[i] == j+1: # Staying consistent with previous output, so we use j+1\n",
        "                J_obj = J_obj + np.linalg.norm(x[i] - z[j])**2\n",
        "                break\n",
        "    J_obj = J_obj / len(x)\n",
        "    return J_obj\n",
        "\n",
        "J_obj = obj_val(x, c, z)\n",
        "print(J_obj)"
      ],
      "execution_count": 0,
      "outputs": [
        {
          "output_type": "stream",
          "text": [
            "31.083333333333325\n"
          ],
          "name": "stdout"
        }
      ]
    },
    {
      "cell_type": "markdown",
      "metadata": {
        "id": "GDsleUfPc0D4",
        "colab_type": "text"
      },
      "source": [
        "(e) Perform 2 iterations using the code you have written in part (b) - (d)."
      ]
    },
    {
      "cell_type": "code",
      "metadata": {
        "id": "izUibBkxc0D5",
        "colab_type": "code",
        "colab": {}
      },
      "source": [
        "#Your code here\n",
        "# Part (b) Step 1 Update Partition\n",
        "c = np.zeros(len(x))\n",
        "for i in range(len(x)):\n",
        "    dist1 = np.linalg.norm(x[i] - z1)#compute the distance\n",
        "    dist2 = np.linalg.norm(x[i] - z2)#compute the distance\n",
        "    dist3 = np.linalg.norm(x[i] - z3)#compute the distance\n",
        "    min_dist = min(dist1,dist2,dist3)\n",
        "    if min_dist == dist1:\n",
        "        c[i] = 1\n",
        "    elif min_dist == dist2:\n",
        "        c[i] = 2\n",
        "    else: # min_dist == dist3:\n",
        "        c[i] = 3\n",
        "    print(\"Vector \", i+1, \" is assigened to group \", c[i])\n",
        "print(c)\n",
        "# Part (c) Step 2 Update Centroid\n",
        "# calculate new centroids\n",
        "cent1 = np.array([0,0]);\n",
        "cent2 = np.array([0,0]);\n",
        "cent3 = np.array([0,0]);\n",
        "# initialise counters\n",
        "cnt1 = 0;cnt2 = 0;cnt3 = 0;\n",
        "\n",
        "for i in range(len(x)):\n",
        "    if c[i] == 1:\n",
        "        cent1 = cent1 + x[i]\n",
        "        cnt1 = cnt1 + 1\n",
        "    #Do the same for the other two groups\n",
        "    if c[i] == 2:\n",
        "        cent2 = cent2 + x[i]\n",
        "        cnt2 = cnt2 + 1\n",
        "    if c[i] == 3:\n",
        "        cent3 = cent3 + x[i]\n",
        "        cnt3 = cnt3 + 1\n",
        "    \n",
        "    \n",
        "z1 = cent1 / cnt1\n",
        "z2 = cent2 / cnt2\n",
        "z3 = cent3 / cnt3\n",
        "print(\"Centroid of Group 1 is z1 =\", z1)\n",
        "print(\"Centroid of Group 2 is z2 =\", z2)\n",
        "print(\"Centroid of Group 3 is z3 =\", z3)\n",
        "# Part (d) Calculate the objective value\n",
        "# objective function after Iteration 1\n",
        "J_obj = 0\n",
        "for i in range(len(x)):\n",
        "    if c[i] == 1:\n",
        "        J_obj = J_obj + np.linalg.norm(x[i] - z1)**2 #your code here\n",
        "    elif c[i] == 2:\n",
        "        J_obj = J_obj + np.linalg.norm(x[i] - z2)**2 #your code here\n",
        "    else: #c[i] == 3:\n",
        "        J_obj = J_obj + np.linalg.norm(x[i] - z3)**2 #your code here\n",
        "J_obj = J_obj / len(x) #your code here\n",
        "print('J_obj = ',J_obj)"
      ],
      "execution_count": 0,
      "outputs": []
    },
    {
      "cell_type": "markdown",
      "metadata": {
        "id": "nADYdjmBc0D7",
        "colab_type": "text"
      },
      "source": [
        "(f) By defining part (b) - (d) as functions, perform 1000 iterations."
      ]
    },
    {
      "cell_type": "code",
      "metadata": {
        "id": "a2Njtvjic0D8",
        "colab_type": "code",
        "colab": {}
      },
      "source": [
        "# c = nearest_groups(x, c)\n",
        "# z = centroid_update(x, c, z)\n",
        "# J_obj = obj_val(x, c, z)\n",
        "\n",
        "number_of_iterations = 10\n",
        "J_obj_vector = [];\n",
        "for M in range(number_of_iterations):\n",
        "    # Perform Group Assignment here\n",
        "    c = nearest_group(x, c)\n",
        "    # Perform Centroid Calculation\n",
        "    z = centroid_update(x, c, z)\n",
        "    # Calculate the objective function\n",
        "    J_obj = obj_val(x, c, z)\n",
        "    # Store the objective function\n",
        "    J_obj_vector.append(J_obj);\n",
        "print(J_obj_vector)\n"
      ],
      "execution_count": 0,
      "outputs": []
    },
    {
      "cell_type": "markdown",
      "metadata": {
        "id": "lt979Tl2c0D-",
        "colab_type": "text"
      },
      "source": [
        "# K-means Algorithm"
      ]
    },
    {
      "cell_type": "code",
      "metadata": {
        "id": "M7DQlGzEc0D_",
        "colab_type": "code",
        "colab": {},
        "outputId": "ff0d6227-8044-4611-bb63-665562433525"
      },
      "source": [
        "def nearest_group(x, z):\n",
        "    c = np.zeros(len(x))\n",
        "    for i in range (len(x)):\n",
        "        dist = np.zeros(len(z))\n",
        "        for k in range(len(z)):\n",
        "            dist[k] = np.linalg.norm(x[i] - z[k])**2\n",
        "        min_dist = min(dist)\n",
        "        for k in range(len(z)): # the 2nd inner for-loop\n",
        "            if min_dist == dist[k]:\n",
        "                c[i] = k+1 # original code, keeping it consistent to part(b)\n",
        "                ##c[i] = k\n",
        "                break # to break the 2nd inner for-loop\n",
        "    return c\n",
        "\n",
        "def centroid_update(x, c, z):\n",
        "    k = len(z)\n",
        "    vec_length = len(x[0])\n",
        "    cent = np.zeros((k, vec_length))\n",
        "    z = np.zeros((k, vec_length))\n",
        "    cnt = np.zeros(k)\n",
        "    for i in range(len(x)):\n",
        "        for j in range(k):\n",
        "            if c[i] == j+1:\n",
        "                cent[j] += x[i]\n",
        "                cnt[j] += 1\n",
        "                break\n",
        "    for j in range(k):\n",
        "        z[j] = cent[j] / cnt[j]\n",
        "    return z\n",
        "\n",
        "def obj_val(x, c, z):\n",
        "    J_obj = 0\n",
        "    for i in range(len(x)):\n",
        "        for j in range(len(z)):\n",
        "            if c[i] == j+1: # Staying consistent with previous output, so we use j+1\n",
        "                J_obj = J_obj + np.linalg.norm(x[i] - z[j])**2\n",
        "                break\n",
        "    J_obj = J_obj / len(x)\n",
        "    return J_obj\n",
        "\n",
        "def Kmeans_Alg(x, z):\n",
        "    J_obj_old = float('inf')\n",
        "    cond = 1\n",
        "    J_obj_vector = []\n",
        "    while cond > 0:\n",
        "        c = nearest_group(x, z)\n",
        "        z = centroid_update(x, c, z)\n",
        "        J_obj_new = obj_val(x, c, z)\n",
        "        J_obj_vector.append(J_obj_new)\n",
        "        if abs(J_obj_new - J_obj_old) <= 1e-6: #1e-6 = 0.000001\n",
        "            cond = 0\n",
        "        else:\n",
        "            J_obj_old = J_obj_new\n",
        "    iteration = len(J_obj_vector)\n",
        "    return z, c, J_obj_vector, iteration\n",
        "\n",
        "# Test the k-means algorithm\n",
        "x = np.array([[-5,10], [-10,5], [-2,2], [8,5], [5,2], [9,-2], [5,-4], [-2,-5], [-10,-7], [-11,-4]])\n",
        "# Initial guess of 3 centroids\n",
        "z1 = [-10, 0]\n",
        "z2 = [1, 1]\n",
        "z3 = [-10, -8]\n",
        "z = np.array([z1, z2, z3])\n",
        "centroids, c, J_obj_vector, iteration = Kmeans_Alg(x, z)\n",
        "print('Centroids:', centroids)\n",
        "print('Group assignment:', c)\n",
        "print('Obj calues:', J_obj_vector)"
      ],
      "execution_count": 0,
      "outputs": [
        {
          "output_type": "stream",
          "text": [
            "Centroids: [[ -7.5          7.5       ]\n",
            " [  3.83333333  -0.33333333]\n",
            " [-10.5         -5.5       ]]\n",
            "Group assignment: [1. 1. 2. 2. 2. 2. 2. 2. 3. 3.]\n",
            "Obj calues: [39.15714285714286, 22.21666666666667, 22.21666666666667]\n"
          ],
          "name": "stdout"
        }
      ]
    },
    {
      "cell_type": "code",
      "metadata": {
        "id": "U4gZUBALc0EB",
        "colab_type": "code",
        "colab": {}
      },
      "source": [
        ""
      ],
      "execution_count": 0,
      "outputs": []
    }
  ]
}
