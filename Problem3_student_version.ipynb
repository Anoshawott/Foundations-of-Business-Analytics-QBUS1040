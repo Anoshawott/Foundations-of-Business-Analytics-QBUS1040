{
  "nbformat": 4,
  "nbformat_minor": 0,
  "metadata": {
    "kernelspec": {
      "display_name": "Python 3",
      "language": "python",
      "name": "python3"
    },
    "language_info": {
      "codemirror_mode": {
        "name": "ipython",
        "version": 3
      },
      "file_extension": ".py",
      "mimetype": "text/x-python",
      "name": "python",
      "nbconvert_exporter": "python",
      "pygments_lexer": "ipython3",
      "version": "3.7.3"
    },
    "colab": {
      "name": "Problem3_student_version.ipynb",
      "provenance": [],
      "include_colab_link": true
    }
  },
  "cells": [
    {
      "cell_type": "markdown",
      "metadata": {
        "id": "view-in-github",
        "colab_type": "text"
      },
      "source": [
        "<a href=\"https://colab.research.google.com/github/Anoshawott/Foundations-of-Business-Analytics-QBUS1040/blob/master/Problem3_student_version.ipynb\" target=\"_parent\"><img src=\"https://colab.research.google.com/assets/colab-badge.svg\" alt=\"Open In Colab\"/></a>"
      ]
    },
    {
      "cell_type": "code",
      "metadata": {
        "id": "GXRlMTJ5fB4n",
        "colab_type": "code",
        "colab": {},
        "outputId": "4b62db97-b5ad-4a44-cfe5-24a2a935a561"
      },
      "source": [
        "def gram_schmidt(a):\n",
        "    q = []\n",
        "    for i in range(len(a)):\n",
        "        #orthogonalization\n",
        "        q_tilde = a[i]\n",
        "        for j in range(len(q)):\n",
        "            q_tilde = q_tilde - np.inner(q[j], a[i])*q[j]\n",
        "        \n",
        "        #Test for dependennce\n",
        "        if np.linalg.norm(q_tilde) <= 1e-6: #1e-6 = 0.000001\n",
        "            print(\"Vectors are linearly dependent.\")\n",
        "            print (\"GS algorithm terminates at iteration \", i+1)\n",
        "            return q\n",
        "        \n",
        "        #Normalization\n",
        "        else:\n",
        "            qi = q_tilde / np.linalg.norm(q_tilde) #linalg == linear algebra library\n",
        "            q.append(qi)\n",
        "    print(\"Vectors are linearly independent.\")\n",
        "    return q\n",
        "\n",
        "import numpy as np\n",
        "# a linear independent example\n",
        "a_list = np.array([[0,0,1,0], [1,1,0,0], [1,-1,0,0], [1,1,1,4]])\n",
        "result = np.array(gram_schmidt(a_list))\n",
        "print(result)\n",
        "\n",
        "yo = np.array(gram_schmidt(result))\n",
        "print(yo)\n",
        "\n",
        "# a linear dependent example\n",
        "b_list = np.array([[0,0,1,0], [1,1,0,0], [2,2,0,0], [3,3,0,0]])\n",
        "result = np.array(gram_schmidt(b_list))\n",
        "print(result)\n",
        "\n"
      ],
      "execution_count": 0,
      "outputs": [
        {
          "output_type": "stream",
          "text": [
            "Vectors are linearly independent.\n",
            "[[ 0.00000000e+00  0.00000000e+00  1.00000000e+00  0.00000000e+00]\n",
            " [ 7.07106781e-01  7.07106781e-01  0.00000000e+00  0.00000000e+00]\n",
            " [ 7.07106781e-01 -7.07106781e-01  0.00000000e+00  0.00000000e+00]\n",
            " [ 5.55111512e-17  5.55111512e-17  0.00000000e+00  1.00000000e+00]]\n",
            "Vectors are linearly independent.\n",
            "[[ 0.00000000e+00  0.00000000e+00  1.00000000e+00  0.00000000e+00]\n",
            " [ 7.07106781e-01  7.07106781e-01  0.00000000e+00  0.00000000e+00]\n",
            " [ 7.07106781e-01 -7.07106781e-01  0.00000000e+00  0.00000000e+00]\n",
            " [-1.23259516e-32 -1.23259516e-32  0.00000000e+00  1.00000000e+00]]\n",
            "Vectors are linearly dependent.\n",
            "GS algorithm terminates at iteration  3\n",
            "[[0.         0.         1.         0.        ]\n",
            " [0.70710678 0.70710678 0.         0.        ]]\n"
          ],
          "name": "stdout"
        }
      ]
    },
    {
      "cell_type": "markdown",
      "metadata": {
        "id": "J0euxaWefB42",
        "colab_type": "text"
      },
      "source": [
        "# Probelm 3(b) in tutorial 5"
      ]
    },
    {
      "cell_type": "code",
      "metadata": {
        "id": "0sv4gbTefB44",
        "colab_type": "code",
        "colab": {},
        "outputId": "3486cb7b-0146-4947-e3b5-f3b047fddb90"
      },
      "source": [
        "c_list = np.array([[768,-2095,4093,834,-7383],[1121,-9284,-3490,1428,1435],\n",
        "                  [3425,5821,-7249,4392,23450],[8023,-6342,8241,5835,-293]])\n",
        "result = np.array(gram_schmidt(c_list))\n",
        "print(result)\n"
      ],
      "execution_count": 0,
      "outputs": [
        {
          "output_type": "stream",
          "text": [
            "Vectors are linearly independent.\n",
            "[[ 0.08755826 -0.23884709  0.46663539  0.0950828  -0.84172222]\n",
            " [ 0.11345856 -0.92125322 -0.32526232  0.1439081   0.10915377]\n",
            " [ 0.54193775  0.0665187   0.40236716  0.65429827  0.33447448]\n",
            " [ 0.2353082  -0.23738921  0.56173775 -0.68291876  0.32611207]]\n"
          ],
          "name": "stdout"
        }
      ]
    },
    {
      "cell_type": "code",
      "metadata": {
        "id": "DpBfybjffB5C",
        "colab_type": "code",
        "colab": {},
        "outputId": "9bd3f0c6-f6c6-47c0-ab76-bf0377a1478f"
      },
      "source": [
        "b_list = np.array([[1,1], [1,1]])\n",
        "result = np.array(gram_schmidt(b_list))\n",
        "print(result)"
      ],
      "execution_count": 0,
      "outputs": [
        {
          "output_type": "stream",
          "text": [
            "Vectors are linearly dependent.\n",
            "GS algorithm terminates at iteration  2\n",
            "[[0.70710678 0.70710678]]\n"
          ],
          "name": "stdout"
        }
      ]
    }
  ]
}